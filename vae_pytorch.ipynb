{
  "metadata": {
    "kernelspec": {
      "language": "python",
      "display_name": "Python 3",
      "name": "python3"
    },
    "language_info": {
      "name": "python",
      "version": "3.10.14",
      "mimetype": "text/x-python",
      "codemirror_mode": {
        "name": "ipython",
        "version": 3
      },
      "pygments_lexer": "ipython3",
      "nbconvert_exporter": "python",
      "file_extension": ".py"
    },
    "kaggle": {
      "accelerator": "none",
      "dataSources": [],
      "dockerImageVersionId": 30786,
      "isInternetEnabled": true,
      "language": "python",
      "sourceType": "notebook",
      "isGpuEnabled": false
    },
    "colab": {
      "name": "vae pytorch.ipynb",
      "provenance": [],
      "include_colab_link": true
    }
  },
  "nbformat_minor": 0,
  "nbformat": 4,
  "cells": [
    {
      "cell_type": "markdown",
      "metadata": {
        "id": "view-in-github",
        "colab_type": "text"
      },
      "source": [
        "<a href=\"https://colab.research.google.com/github/daemonX10/Generative-Deep-Learning/blob/main/vae_pytorch.ipynb\" target=\"_parent\"><img src=\"https://colab.research.google.com/assets/colab-badge.svg\" alt=\"Open In Colab\"/></a>"
      ]
    },
    {
      "cell_type": "code",
      "source": [
        "# This Python 3 environment comes with many helpful analytics libraries installed\n",
        "# It is defined by the kaggle/python Dockhttps://github.com/er image: https://github.com/kaggle/docker-python\n",
        "# For example, here's several helpful packages to load\n",
        "\n",
        "import numpy as np # linear algebra\n",
        "import pandas as pd # data processing, CSV file I/O (e.g. pd.read_csv)\n",
        "\n",
        "# Input data files are available in the read-only \"../input/\" directory\n",
        "# For example, running this (by clicking run or pressing Shift+Enter) will list all files under the input directory\n",
        "\n",
        "import os\n",
        "for dirname, _, filenames in os.walk('/kaggle/input'):\n",
        "    for filename in filenames:\n",
        "        print(os.path.join(dirname, filename))\n",
        "\n",
        "# You can write up to 20GB to the current directory (/kaggle/working/) that gets preserved as output when you create a version using \"Save & Run All\"\n",
        "# You can also write temporary files to /kaggle/temp/, but they won't be saved outside of the current session"
      ],
      "metadata": {
        "_uuid": "8f2839f25d086af736a60e9eeb907d3b93b6e0e5",
        "_cell_guid": "b1076dfc-b9ad-4769-8c92-a6c4dae69d19",
        "trusted": true,
        "execution": {
          "iopub.status.busy": "2024-11-11T11:21:05.074096Z",
          "iopub.execute_input": "2024-11-11T11:21:05.074529Z",
          "iopub.status.idle": "2024-11-11T11:21:06.170851Z",
          "shell.execute_reply.started": "2024-11-11T11:21:05.074489Z",
          "shell.execute_reply": "2024-11-11T11:21:06.169797Z"
        },
        "id": "9nr0qY9adrwo"
      },
      "outputs": [],
      "execution_count": null
    },
    {
      "cell_type": "markdown",
      "source": [
        "![vae](https://lh6.googleusercontent.com/dqHH81HNI-B60vDS3u2M0jsUVo0nsUIlMoRT4GlG4w8fDTfJ5-Li0vZ08XWtuEHLW2jFR4jlwxCz8O2WLTDX5u09uOp6WEE87XmStaspZgcBbHaRB47S3tdXdkf4TzIaZsDFh-YXLl945ebwzlWnJek)"
      ],
      "metadata": {
        "id": "__pteMJ8drws"
      }
    },
    {
      "cell_type": "code",
      "source": [
        "import torch,os\n",
        "DEVICE = (\n",
        "    \"cuda\"\n",
        "    if torch.cuda.is_available()\n",
        "    else \"mps\"\n",
        "    if torch.backends.mps.is_available()\n",
        "    else \"cpu\"\n",
        ")\n",
        "# define model hyperparameters\n",
        "LR = 0.001\n",
        "PATIENCE = 2\n",
        "IMAGE_SIZE = 32\n",
        "CHANNELS = 1\n",
        "BATCH_SIZE = 64\n",
        "EMBEDDING_DIM = 2\n",
        "EPOCHS = 100\n",
        "SHAPE_BEFORE_FLATTENING = (128, IMAGE_SIZE // 8, IMAGE_SIZE // 8)\n",
        "# create output directory\n",
        "output_dir = \"output\"\n",
        "os.makedirs(\"output\", exist_ok=True)"
      ],
      "metadata": {
        "trusted": true,
        "execution": {
          "iopub.status.busy": "2024-11-11T11:21:06.173303Z",
          "iopub.execute_input": "2024-11-11T11:21:06.173989Z",
          "iopub.status.idle": "2024-11-11T11:21:09.639848Z",
          "shell.execute_reply.started": "2024-11-11T11:21:06.173935Z",
          "shell.execute_reply": "2024-11-11T11:21:09.638634Z"
        },
        "id": "6eUv4_DQdrwt"
      },
      "outputs": [],
      "execution_count": null
    },
    {
      "cell_type": "code",
      "source": [
        "training_progress_dir = os.path.join(output_dir,\"training_progres\")\n",
        "os.makedirs(training_progress_dir,exist_ok=True)\n",
        "\n",
        "model_weights_dir = os.path.join(output_dir,\"model_weights\")\n",
        "os.makedirs(model_weights_dir,exist_ok=True)\n",
        "\n",
        "MODEL_WEIGHTS_PATH = os.path.join(model_weights_dir,'best_vae.pt')"
      ],
      "metadata": {
        "trusted": true,
        "execution": {
          "iopub.status.busy": "2024-11-11T11:21:09.641296Z",
          "iopub.execute_input": "2024-11-11T11:21:09.641833Z",
          "iopub.status.idle": "2024-11-11T11:21:09.648798Z",
          "shell.execute_reply.started": "2024-11-11T11:21:09.641792Z",
          "shell.execute_reply": "2024-11-11T11:21:09.64748Z"
        },
        "id": "CnTCYVildrwu"
      },
      "outputs": [],
      "execution_count": null
    },
    {
      "cell_type": "code",
      "source": [
        "FILE_RECON_BEFORE_TRAINING = os.path.join(\n",
        "    output_dir, \"reconstruct_before_train.png\"\n",
        ")\n",
        "FILE_REAL_BEFORE_TRAINING = os.path.join(\n",
        "    output_dir, \"real_test_images_before_train.png\"\n",
        ")\n",
        "# define reconstruction & real after training images paths\n",
        "FILE_RECON_AFTER_TRAINING = os.path.join(\n",
        "    output_dir, \"reconstruct_after_train.png\"\n",
        ")\n",
        "FILE_REAL_AFTER_TRAINING = os.path.join(\n",
        "    output_dir, \"real_test_images_after_train.png\"\n",
        ")\n",
        "# define latent space and image grid embeddings plot paths\n",
        "LATENT_SPACE_PLOT = os.path.join(output_dir, \"embedding_visualize.png\")\n",
        "IMAGE_GRID_EMBEDDINGS_PLOT = os.path.join(\n",
        "    output_dir, \"image_grid_on_embeddings.png\"\n",
        ")\n",
        "# define linearly and normally sampled latent space reconstructions plot paths\n",
        "LINEARLY_SAMPLED_RECONSTRUCTIONS_PLOT = os.path.join(\n",
        "    output_dir, \"linearly_sampled_reconstructions.png\"\n",
        ")\n",
        "NORMALLY_SAMPLED_RECONSTRUCTIONS_PLOT = os.path.join(\n",
        "    output_dir, \"normally_sampled_reconstructions.png\"\n",
        ")"
      ],
      "metadata": {
        "trusted": true,
        "execution": {
          "iopub.status.busy": "2024-11-11T11:21:09.650308Z",
          "iopub.execute_input": "2024-11-11T11:21:09.650652Z",
          "iopub.status.idle": "2024-11-11T11:21:09.665541Z",
          "shell.execute_reply.started": "2024-11-11T11:21:09.650615Z",
          "shell.execute_reply": "2024-11-11T11:21:09.664528Z"
        },
        "id": "TWbZcDrtdrwu"
      },
      "outputs": [],
      "execution_count": null
    },
    {
      "cell_type": "code",
      "source": [
        "\n",
        "# define class labels dictionary\n",
        "CLASS_LABELS = {\n",
        "    0: \"T-shirt/top\",\n",
        "    1: \"Trouser\",\n",
        "    2: \"Pullover\",\n",
        "    3: \"Dress\",\n",
        "    4: \"Coat\",\n",
        "    5: \"Sandal\",\n",
        "    6: \"Shirt\",\n",
        "    7: \"Sneaker\",\n",
        "    8: \"Bag\",\n",
        "    9: \"Ankle boot\",\n",
        "}"
      ],
      "metadata": {
        "trusted": true,
        "execution": {
          "iopub.status.busy": "2024-11-11T11:21:09.668831Z",
          "iopub.execute_input": "2024-11-11T11:21:09.669188Z",
          "iopub.status.idle": "2024-11-11T11:21:09.679412Z",
          "shell.execute_reply.started": "2024-11-11T11:21:09.66914Z",
          "shell.execute_reply": "2024-11-11T11:21:09.678451Z"
        },
        "id": "n9z_yVZTdrwv"
      },
      "outputs": [],
      "execution_count": null
    },
    {
      "cell_type": "code",
      "source": [
        "import torch\n",
        "import torch.nn as nn\n",
        "\n",
        "def vae_gaussian_kl_loss(mu,logvar):\n",
        "    KLD = -0.5 * torch.sum(1+logvar -mu.pow(2) - logvar.exp() , dim=1)\n",
        "    return KLD.mean()\n",
        "\n",
        "def reconstuction_loss(x_reconstructed,x):\n",
        "    bce_loss = nn.BCELoss()\n",
        "    return bce_loss(x_reconstructed,x)\n",
        "\n",
        "def vae_loss(y_pred,y_true):\n",
        "    mu , logvar,recon_x = y_pred\n",
        "    recon_loss = reconstruction_loss(recon_x,y_true)\n",
        "    kld_loss = vae_gaussian_kl_loss(mu,logvar)\n",
        "    return 500 * recon_loss + kld_loss"
      ],
      "metadata": {
        "trusted": true,
        "execution": {
          "iopub.status.busy": "2024-11-11T11:21:09.681026Z",
          "iopub.execute_input": "2024-11-11T11:21:09.681883Z",
          "iopub.status.idle": "2024-11-11T11:21:09.691887Z",
          "shell.execute_reply.started": "2024-11-11T11:21:09.681828Z",
          "shell.execute_reply": "2024-11-11T11:21:09.69064Z"
        },
        "id": "thEcrSZXdrww"
      },
      "outputs": [],
      "execution_count": null
    },
    {
      "cell_type": "code",
      "source": [
        "import torch\n",
        "import torch.nn as nn\n",
        "import torch.nn.functional as F\n",
        "from torch.distributions.normal import Normal"
      ],
      "metadata": {
        "trusted": true,
        "execution": {
          "iopub.status.busy": "2024-11-11T11:21:09.693399Z",
          "iopub.execute_input": "2024-11-11T11:21:09.693843Z",
          "iopub.status.idle": "2024-11-11T11:21:09.704368Z",
          "shell.execute_reply.started": "2024-11-11T11:21:09.693802Z",
          "shell.execute_reply": "2024-11-11T11:21:09.703069Z"
        },
        "id": "nc3rDBPSdrww"
      },
      "outputs": [],
      "execution_count": null
    },
    {
      "cell_type": "code",
      "source": [
        "class Sampling(nn.Module):\n",
        "    def forward(self,z_mean,z_log_var):\n",
        "        batch,dim = z_mean.shape\n",
        "        epsilon = Normal(0,1).sample((batch,dim)).to(z_mean.device)\n",
        "        return z_mean + torch.exp(0.5 * z_log_var) * epsilon"
      ],
      "metadata": {
        "trusted": true,
        "execution": {
          "iopub.status.busy": "2024-11-11T11:21:09.706295Z",
          "iopub.execute_input": "2024-11-11T11:21:09.706854Z",
          "iopub.status.idle": "2024-11-11T11:21:09.71692Z",
          "shell.execute_reply.started": "2024-11-11T11:21:09.706796Z",
          "shell.execute_reply": "2024-11-11T11:21:09.715771Z"
        },
        "id": "CsvLZXC5drwx"
      },
      "outputs": [],
      "execution_count": null
    },
    {
      "cell_type": "code",
      "source": [
        "class Encoder(nn.Module):\n",
        "    def __init__(self,image_size,embedding_dim):\n",
        "        super(Encoder,self).__init__()\n",
        "        self.conv1 = nn.Conv2d(1, 32, 3, stride=2, padding=1)\n",
        "        self.conv2 = nn.Conv2d(32, 64, 3, stride=2, padding=1)\n",
        "        self.conv3 = nn.Conv2d(64, 128, 3, stride=2, padding=1)\n",
        "\n",
        "        self.flatten = nn.Flatten()\n",
        "        self.fc_mean = nn.Linear(\n",
        "            128*(image_size//8) * (image_size//8),embedding_dim\n",
        "        )\n",
        "        self.fc_log_var = nn.Linear(128*(image_size//8)*(image_size//8),embedding_dim)\n",
        "        self.sampling = Sampling()\n",
        "\n",
        "    def forward(self,x):\n",
        "        x=F.relu(self.conv1(x))\n",
        "        x = F.relu(self.conv2(x))\n",
        "        x = F.relu(self.conv3(x))\n",
        "\n",
        "        x = self.flatten(x)\n",
        "        z_mean = self.fc_mean(x)\n",
        "        z_log_var = self.fc_log_var(x)\n",
        "        z = self.sampling(z_mean,z_log_var)\n",
        "        return z_mean,z_log_var,z"
      ],
      "metadata": {
        "trusted": true,
        "execution": {
          "iopub.status.busy": "2024-11-11T11:32:07.63133Z",
          "iopub.execute_input": "2024-11-11T11:32:07.631769Z",
          "iopub.status.idle": "2024-11-11T11:32:07.643092Z",
          "shell.execute_reply.started": "2024-11-11T11:32:07.631712Z",
          "shell.execute_reply": "2024-11-11T11:32:07.641458Z"
        },
        "id": "x21MLi0ldrwx"
      },
      "outputs": [],
      "execution_count": null
    },
    {
      "cell_type": "code",
      "source": [
        "class Decoder(nn.Module):\n",
        "    def __init__(self,embedding_dim,shape_before_flattening):\n",
        "        super(Decoder,self).__init__()\n",
        "        self.fc = nn.Linear(\n",
        "            embedding_dim,\n",
        "            shape_before_flattening[0] *\n",
        "            shape_before_flattening[1 ] *\n",
        "            shape_before_flattening[2],\n",
        "        )\n",
        "        self.reshape= lambda x:x.view(-1,*shape_before_flattening)\n",
        "        self.deconv1 = nn.ConvTranspose2d(\n",
        "            128,64,3,stride=2,padding=1,output_padding=1\n",
        "        )\n",
        "        self.deconv2 = nn.ConvTranspose2d(64,32,stride=2,padding=1,output_padding=1)\n",
        "        self.dconv3 = nn.ConvTranspose2d(32,1,3,stride=2,padding=1,output_padding=1)\n",
        "\n",
        "    def forward(self,x):\n",
        "        x = self.fc(x)\n",
        "        x = self.reshape(x)\n",
        "        x = F.relu(self.deconv1(x))\n",
        "        x = F.relu(self.deconv2(x))\n",
        "        x = torch.sigmoid(self.deconv3(x))\n",
        "        return x\n",
        ""
      ],
      "metadata": {
        "trusted": true,
        "execution": {
          "iopub.status.busy": "2024-11-11T12:24:32.637462Z",
          "iopub.execute_input": "2024-11-11T12:24:32.638141Z",
          "iopub.status.idle": "2024-11-11T12:24:32.649749Z",
          "shell.execute_reply.started": "2024-11-11T12:24:32.638095Z",
          "shell.execute_reply": "2024-11-11T12:24:32.648557Z"
        },
        "id": "ZhREzLiydrwy"
      },
      "outputs": [],
      "execution_count": null
    },
    {
      "cell_type": "code",
      "source": [
        "class VAE(nn.Module):\n",
        "    def __init__(self,encoder,decoder):\n",
        "        super(VAE,self).__init__()\n",
        "        self.encoder = encoder\n",
        "        self.decoder = decoder\n",
        "\n",
        "    def forward(self,x):\n",
        "        z_mean,z_log_var,z = self.encoder(x)\n",
        "        reconstruction = self.decoder(z)\n",
        "        return z_mean,z_log_var,reconstruction\n",
        ""
      ],
      "metadata": {
        "trusted": true,
        "execution": {
          "iopub.status.busy": "2024-11-11T12:29:20.129708Z",
          "iopub.execute_input": "2024-11-11T12:29:20.130181Z",
          "iopub.status.idle": "2024-11-11T12:29:20.137295Z",
          "shell.execute_reply.started": "2024-11-11T12:29:20.130138Z",
          "shell.execute_reply": "2024-11-11T12:29:20.136007Z"
        },
        "id": "a4NjKTaNdrwy"
      },
      "outputs": [],
      "execution_count": null
    },
    {
      "cell_type": "code",
      "source": [],
      "metadata": {
        "trusted": true,
        "id": "DNXNJL7udrwy"
      },
      "outputs": [],
      "execution_count": null
    },
    {
      "cell_type": "code",
      "source": [
        "\n",
        "from torchvision import datasets , transforms\n",
        "import torch.optim as optim\n",
        "import torch\n",
        "import os\n",
        "import matplotlib\n",
        "matplotlib.use('agg')"
      ],
      "metadata": {
        "trusted": true,
        "execution": {
          "iopub.status.busy": "2024-11-11T13:29:09.685918Z",
          "iopub.execute_input": "2024-11-11T13:29:09.686449Z",
          "iopub.status.idle": "2024-11-11T13:29:10.809154Z",
          "shell.execute_reply.started": "2024-11-11T13:29:09.686397Z",
          "shell.execute_reply": "2024-11-11T13:29:10.807983Z"
        },
        "id": "9Nczuy0Pdrwy"
      },
      "outputs": [],
      "execution_count": null
    },
    {
      "cell_type": "code",
      "source": [
        "transform = transforms.Compose(\n",
        "    [transforms.Pad(padding=2),transforms.ToTensor]\n",
        ")\n",
        "trainset = datasets.FashionMNIST(\n",
        "    'data',train=True,download=True,transform=transform\n",
        ")\n",
        "\n",
        "train_loader = torch.utils.data.DataLoader(\n",
        "    trainset,batch_size=32,shuffle=True\n",
        ")\n",
        "testset = datasets.FashionMNIST(\n",
        "    'data',train=False,download=True,transform=transform\n",
        ")\n",
        "test_loader=torch.utils.data.DataLoader(\n",
        "    testset,batch_size=32,shuffle=True\n",
        ")"
      ],
      "metadata": {
        "trusted": true,
        "execution": {
          "iopub.status.busy": "2024-11-11T13:38:35.471404Z",
          "iopub.execute_input": "2024-11-11T13:38:35.471912Z",
          "iopub.status.idle": "2024-11-11T13:38:45.044308Z",
          "shell.execute_reply.started": "2024-11-11T13:38:35.471864Z",
          "shell.execute_reply": "2024-11-11T13:38:45.043169Z"
        },
        "id": "IlPyqmsWdrwy",
        "outputId": "2ff6a268-5529-4035-9d5e-1b2ed5199291"
      },
      "outputs": [
        {
          "name": "stdout",
          "text": "Downloading http://fashion-mnist.s3-website.eu-central-1.amazonaws.com/train-images-idx3-ubyte.gz\nDownloading http://fashion-mnist.s3-website.eu-central-1.amazonaws.com/train-images-idx3-ubyte.gz to data/FashionMNIST/raw/train-images-idx3-ubyte.gz\n",
          "output_type": "stream"
        },
        {
          "name": "stderr",
          "text": "100%|██████████| 26421880/26421880 [00:03<00:00, 8561441.55it/s] \n",
          "output_type": "stream"
        },
        {
          "name": "stdout",
          "text": "Extracting data/FashionMNIST/raw/train-images-idx3-ubyte.gz to data/FashionMNIST/raw\n\nDownloading http://fashion-mnist.s3-website.eu-central-1.amazonaws.com/train-labels-idx1-ubyte.gz\nDownloading http://fashion-mnist.s3-website.eu-central-1.amazonaws.com/train-labels-idx1-ubyte.gz to data/FashionMNIST/raw/train-labels-idx1-ubyte.gz\n",
          "output_type": "stream"
        },
        {
          "name": "stderr",
          "text": "100%|██████████| 29515/29515 [00:00<00:00, 139351.22it/s]\n",
          "output_type": "stream"
        },
        {
          "name": "stdout",
          "text": "Extracting data/FashionMNIST/raw/train-labels-idx1-ubyte.gz to data/FashionMNIST/raw\n\nDownloading http://fashion-mnist.s3-website.eu-central-1.amazonaws.com/t10k-images-idx3-ubyte.gz\nDownloading http://fashion-mnist.s3-website.eu-central-1.amazonaws.com/t10k-images-idx3-ubyte.gz to data/FashionMNIST/raw/t10k-images-idx3-ubyte.gz\n",
          "output_type": "stream"
        },
        {
          "name": "stderr",
          "text": "100%|██████████| 4422102/4422102 [00:01<00:00, 2554871.31it/s]\n",
          "output_type": "stream"
        },
        {
          "name": "stdout",
          "text": "Extracting data/FashionMNIST/raw/t10k-images-idx3-ubyte.gz to data/FashionMNIST/raw\n\nDownloading http://fashion-mnist.s3-website.eu-central-1.amazonaws.com/t10k-labels-idx1-ubyte.gz\nDownloading http://fashion-mnist.s3-website.eu-central-1.amazonaws.com/t10k-labels-idx1-ubyte.gz to data/FashionMNIST/raw/t10k-labels-idx1-ubyte.gz\n",
          "output_type": "stream"
        },
        {
          "name": "stderr",
          "text": "100%|██████████| 5148/5148 [00:00<00:00, 8588813.44it/s]",
          "output_type": "stream"
        },
        {
          "name": "stdout",
          "text": "Extracting data/FashionMNIST/raw/t10k-labels-idx1-ubyte.gz to data/FashionMNIST/raw\n\n",
          "output_type": "stream"
        },
        {
          "name": "stderr",
          "text": "\n",
          "output_type": "stream"
        }
      ],
      "execution_count": null
    },
    {
      "cell_type": "code",
      "source": [],
      "metadata": {
        "trusted": true,
        "id": "Z-Njet1Ddrwz"
      },
      "outputs": [],
      "execution_count": null
    },
    {
      "cell_type": "code",
      "source": [],
      "metadata": {
        "trusted": true,
        "id": "KGiQj5HIdrwz"
      },
      "outputs": [],
      "execution_count": null
    },
    {
      "cell_type": "code",
      "source": [],
      "metadata": {
        "trusted": true,
        "id": "IOFXKDjJdrwz"
      },
      "outputs": [],
      "execution_count": null
    },
    {
      "cell_type": "code",
      "source": [],
      "metadata": {
        "trusted": true,
        "id": "Tlh3AVymdrwz"
      },
      "outputs": [],
      "execution_count": null
    },
    {
      "cell_type": "code",
      "source": [],
      "metadata": {
        "trusted": true,
        "id": "SI99X-JUdrwz"
      },
      "outputs": [],
      "execution_count": null
    }
  ]
}